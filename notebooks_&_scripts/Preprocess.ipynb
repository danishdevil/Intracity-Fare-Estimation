{
 "cells": [
  {
   "cell_type": "markdown",
   "metadata": {},
   "source": [
    "# INTRACITY PREPROCESS "
   ]
  },
  {
   "cell_type": "code",
   "execution_count": 1,
   "metadata": {
    "collapsed": true
   },
   "outputs": [],
   "source": [
    "from datetime import datetime\n",
    "import pandas as pd\n",
    "import numpy as np"
   ]
  },
  {
   "cell_type": "code",
   "execution_count": 2,
   "metadata": {
    "collapsed": true
   },
   "outputs": [],
   "source": [
    "\n",
    "# classifies the city according to their starting lat,long\n",
    "\n",
    "def classify_city(s_lat, s_lon):\n",
    "    if abs(s_lat - 13) <= 1:\n",
    "        if abs(s_lon - 80.5) <= 1:\n",
    "            return 0  # delhi\n",
    "        elif abs(s_lon - 77.5) <= 1:\n",
    "            return 1  # banglore\n",
    "    elif abs(s_lon - 72.5) <= 1:\n",
    "        return 2  # chennai\n",
    "    elif abs(s_lat - 25.5) <= 1:\n",
    "        return 3  # lucknow\n",
    "    elif abs(s_lon - 88.5) <= 1:\n",
    "        return 4  # bombay\n",
    "    elif abs(s_lat - 28.5) <= 1:\n",
    "        return 5  # kolkata\n",
    "    else:\n",
    "        return None\n",
    "    \n",
    "pass\n",
    "\n",
    "\n",
    "# if the vehicle is air conditioned \n",
    "def isAC(vehicle):\n",
    "\n",
    "    if vehicle == 1 or vehicle == 2 or vehicle == 4:\n",
    "        return 1\n",
    "    else:\n",
    "        return 0\n",
    "    \n",
    "pass\n",
    "\n",
    "# is the mode of transport is public\n",
    "def isPublic(vehicle):\n",
    "    if vehicle == 0 or vehicle == 3 or vehicle == 5:\n",
    "        return 1\n",
    "    else:\n",
    "        return 0\n",
    "\n",
    "\n",
    "pass\n",
    "\n",
    "\n",
    "# Returns mean latitude of the city\n",
    "def findMean_lat(city):\n",
    "    if city == 0 or city == 1:\n",
    "        return 13\n",
    "    elif city == 2:\n",
    "        return 19.5\n",
    "    elif city == 3:\n",
    "        return 25.5\n",
    "    elif city == 4:\n",
    "        return 22.5\n",
    "    elif city == 5:\n",
    "        return 28.5\n",
    "\n",
    "\n",
    "pass\n",
    "\n",
    "\n",
    "# Returns mean longitude of the city\n",
    "def findMean_long(city):\n",
    "    if city == 0:\n",
    "        return 80.5\n",
    "    elif city == 1:\n",
    "        return 77.5\n",
    "    elif city == 2:\n",
    "        return 72.5\n",
    "    elif city == 3:\n",
    "        return 83\n",
    "    elif city == 4:\n",
    "        return 88.5\n",
    "    elif city == 5:\n",
    "        return 77\n",
    "\n",
    "\n",
    "pass"
   ]
  },
  {
   "cell_type": "code",
   "execution_count": 3,
   "metadata": {
    "collapsed": true
   },
   "outputs": [],
   "source": [
    "def preprocess_city(df, mapping):\n",
    "    df = df.drop(df[df.STARTING_LATITUDE.isnull() & df.DESTINATION_LATITUDE.isnull()].index)\n",
    "    \n",
    "    df.STARTING_LATITUDE.fillna(df.DESTINATION_LATITUDE, inplace=True)\n",
    "    df.STARTING_LONGITUDE.fillna(df.DESTINATION_LONGITUDE, inplace=True)\n",
    "    df.DESTINATION_LATITUDE.fillna(df.STARTING_LATITUDE, inplace=True)\n",
    "    df.DESTINATION_LONGITUDE.fillna(df.STARTING_LONGITUDE, inplace=True)\n",
    "    df.fillna(-100, inplace=True)\n",
    "    \n",
    "    d_format = '%Y-%m-%d %H:%M:%S'\n",
    "    \n",
    "    df['TIMESTAMP'] = [datetime.strptime(x, d_format) for x in df['TIMESTAMP']]\n",
    "    df['MONTH']     = df['TIMESTAMP'].apply(lambda x: x.month)\n",
    "    df['DAY']       = df['TIMESTAMP'].apply(lambda x: x.day)\n",
    "    df['YEAR']      = df['TIMESTAMP'].apply(lambda x: x.year)\n",
    "    df['TIME']      = df['TIMESTAMP'].apply(lambda x: x.strftime(\"%H%M\"))\n",
    "    df['weekday']   = df['TIMESTAMP'].apply(lambda x: x.dayofweek)\n",
    "    df['TIME_AM']   = df['TIMESTAMP'].apply(lambda x: 0 if x.strftime(\"%p\") == \"AM\" else 1)\n",
    "    df.TIMESTAMP = df['TIMESTAMP'].apply(lambda x: x.timestamp())\n",
    "\n",
    "    df.VEHICLE_TYPE = df.VEHICLE_TYPE.str.lower()\n",
    "    df = df.replace({\"VEHICLE_TYPE\": mapping})\n",
    "    df['bus'] = df.apply(lambda x: 1\n",
    "                         if (x['VEHICLE_TYPE'] == 0 or x['VEHICLE_TYPE'] == 4 or x['VEHICLE_TYPE'] == 5)\n",
    "                         else 0, axis=1)\n",
    "    df['taxi']      = df.apply(lambda x: 1 if x['VEHICLE_TYPE'] == 6 else 0, axis=1)\n",
    "    df['cooling']   = df.apply(lambda x: isAC(x['VEHICLE_TYPE']), axis=1)\n",
    "    df['public']    = df.apply(lambda x: isPublic(x['VEHICLE_TYPE']), axis=1)\n",
    "    df['city']      = df.apply(lambda x: classify_city(x['STARTING_LATITUDE'], x['STARTING_LONGITUDE']), axis=1)\n",
    "    df['mean_lat']  = df['city'].apply(lambda x: findMean_lat(x))\n",
    "    df['mean_long'] = df['city'].apply(lambda x: findMean_long(x))\n",
    "    \n",
    "    df.STARTING_LONGITUDE    = df.apply(lambda x: x['mean_long'] - x['STARTING_LONGITUDE'], axis=1)\n",
    "    df.DESTINATION_LONGITUDE = df.apply(lambda x: x['mean_long'] - x['DESTINATION_LONGITUDE'], axis=1)\n",
    "    df.STARTING_LATITUDE     = df.apply(lambda x: x['mean_lat'] - x['STARTING_LATITUDE'], axis=1)\n",
    "    df.DESTINATION_LATITUDE  = df.apply(lambda x: x['mean_lat'] - x['DESTINATION_LATITUDE'], axis=1)\n",
    "    \n",
    "    df.reset_index(drop=True)\n",
    "    return df\n",
    "\n",
    "\n",
    "pass\n"
   ]
  },
  {
   "cell_type": "code",
   "execution_count": 4,
   "metadata": {
    "collapsed": true
   },
   "outputs": [],
   "source": [
    "# mapping(string --> integer) for VEHICLE_TYPE column\n",
    "def create_mapping(train_col):\n",
    "    keys = train_col.str.lower().unique().tolist()\n",
    "    return dict(zip(keys, range(len(keys))))\n",
    "\n",
    "\n",
    "pass"
   ]
  },
  {
   "cell_type": "code",
   "execution_count": 9,
   "metadata": {},
   "outputs": [],
   "source": [
    "# importing data\n",
    "train = pd.read_csv('../data/intracity_fare_train.csv')\n",
    "test = pd.read_csv('../data/intracity_fare_test.csv')\n",
    "id_vec = np.array(test.loc[:,test.columns == 'ID'])"
   ]
  },
  {
   "cell_type": "code",
   "execution_count": null,
   "metadata": {
    "collapsed": true
   },
   "outputs": [],
   "source": [
    "# preprocess the data\n",
    "vehicle_map = create_mapping(train.VEHICLE_TYPE)\n",
    "train = preprocess_city(train, vehicle_map)\n",
    "test = preprocess_city(test, vehicle_map)"
   ]
  },
  {
   "cell_type": "code",
   "execution_count": null,
   "metadata": {
    "collapsed": true
   },
   "outputs": [],
   "source": [
    "# saving the processed data as csv files.\n",
    "train.to_csv(\"processed_train.csv\", index=False)\n",
    "test.to_csv(\"processed_test.csv\", index=False)"
   ]
  }
 ],
 "metadata": {
  "kernelspec": {
   "display_name": "Python 3",
   "language": "python",
   "name": "python3"
  },
  "language_info": {
   "codemirror_mode": {
    "name": "ipython",
    "version": 3
   },
   "file_extension": ".py",
   "mimetype": "text/x-python",
   "name": "python",
   "nbconvert_exporter": "python",
   "pygments_lexer": "ipython3",
   "version": "3.6.2"
  }
 },
 "nbformat": 4,
 "nbformat_minor": 2
}
