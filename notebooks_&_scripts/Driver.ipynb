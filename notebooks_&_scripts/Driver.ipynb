{
 "cells": [
  {
   "cell_type": "markdown",
   "metadata": {},
   "source": [
    "# INTRACITY DRIVER"
   ]
  },
  {
   "cell_type": "code",
   "execution_count": 11,
   "metadata": {
    "collapsed": true
   },
   "outputs": [],
   "source": [
    "%matplotlib inline\n",
    "import matplotlib.pyplot as plt\n",
    "\n",
    "import numpy as np\n",
    "import pandas as pd\n",
    "from sklearn import neural_network\n",
    "from sklearn.preprocessing import StandardScaler\n",
    "from sklearn.metrics import r2_score\n",
    "from sklearn.model_selection import train_test_split"
   ]
  },
  {
   "cell_type": "code",
   "execution_count": 12,
   "metadata": {
    "collapsed": true
   },
   "outputs": [],
   "source": [
    "scaler = StandardScaler()\n",
    "ann = neural_network.MLPRegressor(shuffle=True,\n",
    "                                  alpha=0.5,\n",
    "                                  hidden_layer_sizes=(100, 100),\n",
    "                                  max_iter=10000,\n",
    "                                  random_state=100,\n",
    "                                  verbose=False)"
   ]
  },
  {
   "cell_type": "code",
   "execution_count": 13,
   "metadata": {
    "collapsed": true
   },
   "outputs": [],
   "source": [
    "def crossValidate(X, y, clf):\n",
    "    \n",
    "    X_train, X_test, y_train, y_test = train_test_split(X, y)\n",
    "    \n",
    "    scaler.fit(X_train)\n",
    "    X_train = scaler.transform(X_train)\n",
    "    X_test = scaler.transform(X_test)\n",
    "    \n",
    "    clf.fit(X_train, y_train)\n",
    "    prediction = clf.predict(X_test)\n",
    "    \n",
    "    print(\"CV performance\")\n",
    "    print(200 * r2_score(y_test, prediction))\n",
    "    print(\"Train performance\")\n",
    "    print(200 * r2_score(y_train, clf.predict(X_train)))"
   ]
  },
  {
   "cell_type": "code",
   "execution_count": 14,
   "metadata": {
    "collapsed": true
   },
   "outputs": [],
   "source": [
    "def testRUN_crCsv(X, y, clf):\n",
    "    \n",
    "    scaler.fit(X)\n",
    "    X = scaler.transform(X)\n",
    "    \n",
    "    clf.fit(X, y)\n",
    "    \n",
    "    predict = clf.predict(scaler.transform(test))\n",
    "    \n",
    "    predict = predict.round(decimals=2)\n",
    "    predict = predict.reshape(predict.shape[0], 1)\n",
    "    predict = np.concatenate([id_vec, predict], axis=1)\n",
    "    predict = pd.DataFrame(data=predict, columns=['ID', 'FARE'])\n",
    "    predict.to_csv(\"../answer.csv\", index=False, header=True)\n",
    "    print(\"Done! - check answer.csv file\")\n"
   ]
  },
  {
   "cell_type": "code",
   "execution_count": null,
   "metadata": {
    "collapsed": true
   },
   "outputs": [],
   "source": [
    "train = pd.read_csv('../data/processed_train.csv')\n",
    "test = pd.read_csv('../data/processed_test.csv')\n",
    "id_vec = np.array(test.loc[:, test.columns == 'ID'])"
   ]
  },
  {
   "cell_type": "code",
   "execution_count": null,
   "metadata": {},
   "outputs": [],
   "source": [
    "train.describe()"
   ]
  },
  {
   "cell_type": "code",
   "execution_count": null,
   "metadata": {},
   "outputs": [],
   "source": [
    "fig=plt.figure(figsize=(8, 8), dpi= 80, facecolor='w', edgecolor='k')\n",
    "\n",
    "X_LABEL = 'VEHICLE_TYPE'\n",
    "Y_LABEL = 'WAIT_TIME'\n",
    "\n",
    "plt.xlabel(X_LABEL)\n",
    "plt.ylabel(Y_LABEL)\n",
    "\n",
    "# train.plot(x=X_LABEL,y=Y_LABEL)\n",
    "# train.plot(kind='box', vert=False, positions=[1, 4, 5, 6, 8])\n",
    "plt.scatter(train[Y_LABEL],train[X_LABEL])"
   ]
  },
  {
   "cell_type": "code",
   "execution_count": null,
   "metadata": {
    "collapsed": true
   },
   "outputs": [],
   "source": [
    "# Features to drop\n",
    "\n",
    "drop_lab = ['ID', 'cooling','bus','mean_lat', 'mean_long', 'TIME_AM','YEAR','DAY','TIMESTAMP']\n",
    "train.drop(drop_lab, axis=1, inplace=True)\n",
    "test.drop(drop_lab, axis=1, inplace=True)"
   ]
  },
  {
   "cell_type": "code",
   "execution_count": null,
   "metadata": {
    "collapsed": true
   },
   "outputs": [],
   "source": [
    "X = train.drop(['FARE'], axis=1)\n",
    "y = train['FARE']"
   ]
  },
  {
   "cell_type": "code",
   "execution_count": null,
   "metadata": {},
   "outputs": [],
   "source": [
    "# Hyperparameter tuning\n",
    "\n",
    "from sklearn.model_selection import GridSearchCV\n",
    "from sklearn.metrics import make_scorer\n",
    "gs = GridSearchCV(ann,\n",
    "            param_grid={\n",
    "                'hidden_layer_sizes': [(8), (10),(10, 10, 10), (70, 50, 20), (15, 15, 15), (40, 40, 40)],\n",
    "                'random_state': [100, 1000, 10000],\n",
    "                'alpha': [0.01, 0.1, 1.0]\n",
    "            },\n",
    "            n_jobs=-1,\n",
    "            scoring=make_scorer(r2_score),\n",
    "            verbose=5)\n",
    "\n",
    "gs.fit(X, y)\n",
    "print(\"best estimator :\\n\",gs.best_estimator_)\n",
    "print(\"Best parameters :\\n\",gs.best_params_)\n",
    "print(\"CV RESULTS : \\n\",gs.cv_results_)"
   ]
  },
  {
   "cell_type": "code",
   "execution_count": null,
   "metadata": {},
   "outputs": [],
   "source": [
    "# CROSS VALIDATION code\n",
    "crossValidate(X, y, ann)"
   ]
  },
  {
   "cell_type": "code",
   "execution_count": null,
   "metadata": {},
   "outputs": [],
   "source": [
    "#  Real testing\n",
    "testRUN_crCsv(X, y, ann)"
   ]
  }
 ],
 "metadata": {
  "kernelspec": {
   "display_name": "Python 3",
   "language": "python",
   "name": "python3"
  },
  "language_info": {
   "codemirror_mode": {
    "name": "ipython",
    "version": 3
   },
   "file_extension": ".py",
   "mimetype": "text/x-python",
   "name": "python",
   "nbconvert_exporter": "python",
   "pygments_lexer": "ipython3",
   "version": "3.6.2"
  }
 },
 "nbformat": 4,
 "nbformat_minor": 2
}
